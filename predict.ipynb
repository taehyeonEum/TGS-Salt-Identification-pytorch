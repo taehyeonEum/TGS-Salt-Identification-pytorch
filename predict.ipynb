{
 "cells": [
  {
   "cell_type": "code",
   "execution_count": 1,
   "metadata": {},
   "outputs": [],
   "source": [
    "from pyimagesearch import config\n",
    "import matplotlib.pyplot as plt\n",
    "import numpy as np\n",
    "import torch\n",
    "import cv2\n",
    "import os"
   ]
  },
  {
   "cell_type": "code",
   "execution_count": 2,
   "metadata": {},
   "outputs": [],
   "source": [
    "def prepare_plot(origImage, origMask, predMask):\n",
    "    figure, ax = plt.subplots(nrows=1, ncols=3, figsize=(10, 10))\n",
    "\n",
    "    #plot images\n",
    "    ax[0].imshow(origImage)\n",
    "    ax[1].imshow(origMask)\n",
    "    ax[2].imshow(predMask)\n",
    "\n",
    "    # set titles for subplots\n",
    "    ax[0].set_title(\"Image\")\n",
    "    ax[1].set_title(\"Original Mask\")\n",
    "    ax[2].set_title(\"Predicted Mask\")\n",
    "\n",
    "    figure.tight_layout()\n",
    "    figure.show()"
   ]
  },
  {
   "cell_type": "code",
   "execution_count": 3,
   "metadata": {},
   "outputs": [],
   "source": [
    "def make_prediction(model, imagePath):\n",
    "    model.eval()\n",
    "\n",
    "    with torch.no_grad():\n",
    "        image = cv2.imread(imagePath)\n",
    "        image = cv2.cvtColor(image, cv2.COLOR_BGR2RGB)\n",
    "        image = image.astype('float32') / 255.0\n",
    "\n",
    "        image = cv2.resize(image, (config.INPUT_IMAGE_HEIGHT, config.INPUT_IMAGE_WIDGH))\n",
    "        orig = image.copy()\n",
    "\n",
    "        filename = imagePath.split(os.path.sep)[-1]\n",
    "        #print(imagePath.split(os.path.sep))  # ['dataset', 'train', 'images', 'b911d46acb.png']\n",
    "        #print(filename)                      # filename: b911d46acb.png\n",
    "        groundTruthPath = os.path.join(config.MASK_DATASET_PATH, filename)\n",
    "\n",
    "        gtMask = cv2.imread(groundTruthPath, 0) # read image as grayscale!\n",
    "        gtMask = cv2.resize(gtMask, (config.INPUT_IMAGE_HEIGHT, config.INPUT_IMAGE_WIDGH))\n",
    "\n",
    "        image = np.transpose(image, (2, 0, 1)) #change column order\n",
    "        image = torch.Tensor(image)            \n",
    "        image = torch.unsqueeze(image, 0)\n",
    "        image = image.to(config.DEVICE)\n",
    "\n",
    "\n",
    "        predMask = model(image).squeeze()\n",
    "        #print(predMask.shape)\n",
    "        predMask = torch.sigmoid(predMask) #scale 0~1\n",
    "        predMask = predMask.cpu().numpy()  \n",
    "\n",
    "        predMask = (predMask > config.THRESHOLD) * 255  #if value is bigger than threshold than 255 else 0\n",
    "        predMask = predMask.astype(np.uint8)\n",
    "\n",
    "        prepare_plot(orig, gtMask, predMask) # all feature shape is (128, 128, 128)"
   ]
  },
  {
   "cell_type": "code",
   "execution_count": null,
   "metadata": {},
   "outputs": [],
   "source": [
    "print(\"[INFO] loading up test image paths...\")\n",
    "imagePaths = open(config.TEST_PATHS).read().strip().split('\\n') #use defined address in train.ipynb\n",
    "imagePaths = np.random.choice(imagePaths, size = 10) #select 10 ramdom element in imagePathList!\n",
    "\n",
    "print(\"[INFO] load up model...\")\n",
    "\n",
    "# load latest model name from output/model_names.txt\n",
    "f = open(config.MODEL_PATH, 'r')\n",
    "lines = f.readlines()\n",
    "f.close()\n",
    "recent_model_path = lines[-1].strip()\n",
    "print(recent_model_path)\n",
    "\n",
    "unet = torch.load(recent_model_path).to(config.DEVICE)\n",
    "\n",
    "for path in imagePaths:\n",
    "    make_prediction(unet, path)"
   ]
  }
 ],
 "metadata": {
  "interpreter": {
   "hash": "786e123dffc6b9b8f5916ee223f3eb962a68f56142e4f7d158e135efe5cb6aab"
  },
  "kernelspec": {
   "display_name": "Python 3.9.7 ('base': conda)",
   "language": "python",
   "name": "python3"
  },
  "language_info": {
   "codemirror_mode": {
    "name": "ipython",
    "version": 3
   },
   "file_extension": ".py",
   "mimetype": "text/x-python",
   "name": "python",
   "nbconvert_exporter": "python",
   "pygments_lexer": "ipython3",
   "version": "3.9.12"
  },
  "orig_nbformat": 4
 },
 "nbformat": 4,
 "nbformat_minor": 2
}
