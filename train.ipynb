{
 "cells": [
  {
   "cell_type": "code",
   "execution_count": 8,
   "metadata": {},
   "outputs": [],
   "source": [
    "# USAGE\n",
    "# python train.py\n",
    "# import the necessary packages\n",
    "from pyimagesearch.dataset import SegmentationDataset\n",
    "from pyimagesearch.model import UNet\n",
    "from pyimagesearch import config\n",
    "from torch.nn import BCEWithLogitsLoss # sigmoid + BCEloss(for one class!)\n",
    "from torch.optim import Adam\n",
    "from torch.utils.data import DataLoader\n",
    "from sklearn.model_selection import train_test_split\n",
    "from torchvision import transforms as tf\n",
    "from imutils import paths\n",
    "from tqdm import tqdm\n",
    "import matplotlib.pyplot as plt\n",
    "import torch\n",
    "import time\n",
    "import os\n",
    "\n",
    "%matplotlib inline"
   ]
  },
  {
   "cell_type": "code",
   "execution_count": 9,
   "metadata": {},
   "outputs": [
    {
     "name": "stdout",
     "output_type": "stream",
     "text": [
      "[INFO] saving testing image paths...\n"
     ]
    }
   ],
   "source": [
    "#make image list for directory written!\n",
    "total_imageList = sorted(list(paths.list_images(config.IMAGE_DATASET_PATH)))\n",
    "total_maskList = sorted(list(paths.list_images(config.MASK_DATASET_PATH)))\n",
    "#total_imageList is image_path_list whose element ends with .png\n",
    "\n",
    "#split train and test set!\n",
    "split = train_test_split(total_imageList, total_maskList, test_size=config.TEST_SPLIT_RATIO, random_state=42)\n",
    "\n",
    "#unpack the data split\n",
    "(trainImages, testImages) = split[:2]\n",
    "(trainMasks, testMasks) = split[2:]  #mask is the label of segmentation!\n",
    "\n",
    "# TEST_PATHS: output/test_paths.txt\n",
    "print(\"[INFO] saving testing image paths...\")\n",
    "f = open(config.TEST_PATHS, 'w')\n",
    "f.write('\\n'.join(testImages))\n",
    "f.close()\n",
    "\n",
    "# print(testImages) \n",
    "# 'dataset/train/images/25db231ea0.png', 'dataset/train/images/dfd3138198.png', 'dataset/train/images/2425501bf4.png'"
   ]
  },
  {
   "cell_type": "code",
   "execution_count": 10,
   "metadata": {},
   "outputs": [
    {
     "name": "stdout",
     "output_type": "stream",
     "text": [
      "[INFO] found 3400 examples in the training set...\n",
      "[INFO] found 600 examples in the test set...\n"
     ]
    }
   ],
   "source": [
    "#define transformation\n",
    "compose = tf.Compose([\n",
    "    tf.ToPILImage(), \n",
    "    tf.Resize((config.INPUT_IMAGE_HEIGHT, config.INPUT_IMAGE_WIDGH)), \n",
    "    tf.ToTensor()\n",
    "    ])\n",
    "\n",
    "#create the train and test datasets\n",
    "train_dataset = SegmentationDataset(imagePathList = trainImages, maskPathList = trainMasks, transforms = compose)\n",
    "test_dataset = SegmentationDataset(imagePathList = testImages, maskPathList = testMasks, transforms = compose)\n",
    "print(f\"[INFO] found {len(train_dataset) } examples in the training set...\")\n",
    "print(f\"[INFO] found {len(test_dataset)} examples in the test set...\")\n",
    "\n",
    "#create the train and test dataloaders\n",
    "train_loader = DataLoader(train_dataset, shuffle=True, batch_size=config.BATCH_SIZE,\n",
    "                         pin_memory=config.PIN_MEMORY, num_workers=(os.cpu_count()//5))\n",
    "test_loader = DataLoader(test_dataset, shuffle=False, batch_size=config.BATCH_SIZE, \n",
    "                        pin_memory=config.PIN_MEMORY, num_workers=(os.cpu_count()//5))"
   ]
  },
  {
   "cell_type": "code",
   "execution_count": 11,
   "metadata": {},
   "outputs": [
    {
     "name": "stdout",
     "output_type": "stream",
     "text": [
      "length of total dataset:  4000\n",
      "length of train_data:  3400\n",
      "length of test data:  600\n",
      "length of train data loader:  54\n",
      "length of test data loader  10\n"
     ]
    }
   ],
   "source": [
    "print('length of total dataset: ',len(total_imageList))\n",
    "print('length of train_data: ', len(trainImages))\n",
    "print('length of test data: ', len(testImages))\n",
    "print('length of train data loader: ', len(train_loader))\n",
    "print('length of test data loader ', len(test_loader))\n"
   ]
  },
  {
   "cell_type": "code",
   "execution_count": 12,
   "metadata": {},
   "outputs": [],
   "source": [
    "#initialize out UNet model\n",
    "unet = UNet().to(config.DEVICE)\n",
    "\n",
    "#initialize loss function and optimizer\n",
    "costFunc = BCEWithLogitsLoss()\n",
    "optimizer = Adam(unet.parameters(), lr = config.INIT_LR)\n",
    "\n",
    "trainSteps = len(train_dataset)/config.BATCH_SIZE\n",
    "testSteps = len(test_dataset)/config.BATCH_SIZE\n",
    "\n",
    "#initialize a dictionary to store training history\n",
    "H = {'train_loss': [], \"test_loss\": []}"
   ]
  },
  {
   "cell_type": "code",
   "execution_count": 13,
   "metadata": {},
   "outputs": [],
   "source": [
    "#get latest model number from latest_model_number.txt\n",
    "f = open('output/latest_model_number.txt', 'r')\n",
    "latest_model_number = f.read()\n",
    "f.close()\n",
    "\n",
    "#update model number at latest_model_number.txt\n",
    "f = open('output/latest_model_number.txt', 'w')\n",
    "f.write(str(int(latest_model_number) + 1))\n",
    "f.close()"
   ]
  },
  {
   "cell_type": "code",
   "execution_count": null,
   "metadata": {},
   "outputs": [],
   "source": [
    "#loop over epochs\n",
    "print('[INFO] training the network...')\n",
    "startTime = time.time()\n",
    "\n",
    "for e in tqdm(range(config.NUM_EPOCH)):\n",
    "    totalTrainLoss = 0\n",
    "    totalTestloss = 0\n",
    "\n",
    "    unet.train()\n",
    "    for (i, (x, y)) in enumerate(train_loader):\n",
    "        (x, y) = (x.to(config.DEVICE), y.to(config.DEVICE))\n",
    "\n",
    "        optimizer.zero_grad()\n",
    "        prediction = unet(x)\n",
    "        cost = costFunc(prediction, y)\n",
    "        cost.backward()\n",
    "        optimizer.step()\n",
    "        totalTrainLoss += cost\n",
    "\n",
    "    with torch.no_grad():\n",
    "        unet.eval()\n",
    "        for(x, y) in test_loader:\n",
    "            (x, y) = (x.to(config.DEVICE), y.to(config.DEVICE))\n",
    "            prediction = unet(x)\n",
    "            cost = costFunc(prediction, y)\n",
    "            totalTestloss += cost\n",
    "\n",
    "    avgTrainLoss = totalTrainLoss/len(train_loader)\n",
    "    avgTestLoss = totalTestloss/len(test_loader)\n",
    "\n",
    "    H[\"train_loss\"].append(avgTrainLoss.cpu().detach().numpy())\n",
    "    H[\"test_loss\"].append(avgTestLoss.cpu().detach().numpy())\n",
    "\n",
    "    print('[INFO] EPOCH: {}/{} Train loss:{:2.4f} Test loss:{:2.4f}'.format(e+1, config.NUM_EPOCH, avgTrainLoss, avgTestLoss))\n",
    "\n",
    "print(f\"final train cost: {H['train_loss'][-1]} \\n final test cost: {H['test_loss'][-1]}\")\n",
    "print(\"[INFO] total time taken to train the model: {:2.5f}s\".format(time.time()-startTime))\n",
    "model_path = config.BASE_OUTPUT + \"/unet#\" + str(latest_model_number) + \"_cost:{:2.4f}\".format(H['test_loss'][-1]) +'.pth'\n",
    "\n",
    "f = open(config.MODEL_PATH, 'a')\n",
    "f.write(model_path + '\\n')\n",
    "f.close()\n",
    "\n",
    "torch.save(unet, model_path)"
   ]
  },
  {
   "cell_type": "code",
   "execution_count": 16,
   "metadata": {},
   "outputs": [
    {
     "data": {
      "image/png": "[encoded data removed]",
      "text/plain": [
       "<Figure size 432x288 with 1 Axes>"
      ]
     },
     "metadata": {},
     "output_type": "display_data"
    }
   ],
   "source": [
    "plt.style.use('ggplot')\n",
    "plt.figure()\n",
    "plt.plot(H[\"train_loss\"], label='train_loss')\n",
    "plt.plot(H['test_loss'], label='test_loss')\n",
    "plt.title('Training loss in Dataset')\n",
    "plt.xlabel('Epoch #')\n",
    "plt.ylabel('Loss')\n",
    "plt.legend(loc='lower left')\n",
    "plt.savefig(config.BASE_OUTPUT + \"/loss_graph#\" + str(latest_model_number) + \"_cost:{:2.4f}\".format(H['test_loss'][-1]) +'.png')"
   ]
  }
 ],
 "metadata": {
  "interpreter": {
   "hash": "786e123dffc6b9b8f5916ee223f3eb962a68f56142e4f7d158e135efe5cb6aab"
  },
  "kernelspec": {
   "display_name": "Python 3.9.7 ('base': conda)",
   "language": "python",
   "name": "python3"
  },
  "language_info": {
   "codemirror_mode": {
    "name": "ipython",
    "version": 3
   },
   "file_extension": ".py",
   "mimetype": "text/x-python",
   "name": "python",
   "nbconvert_exporter": "python",
   "pygments_lexer": "ipython3",
   "version": "3.9.12"
  },
  "orig_nbformat": 4
 },
 "nbformat": 4,
 "nbformat_minor": 2
}
