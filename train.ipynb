{
 "cells": [
  {
   "cell_type": "code",
   "execution_count": 1,
   "metadata": {},
   "outputs": [],
   "source": [
    "# USAGE\n",
    "# python train.py\n",
    "# import the necessary packages\n",
    "from pyimagesearch.dataset import SegmentationDataset\n",
    "from pyimagesearch.model import UNet\n",
    "from pyimagesearch import config\n",
    "from torch.nn import BCEWithLogitsLoss # sigmoid + BCEloss(for one class!)\n",
    "from torch.optim import Adam\n",
    "from torch.utils.data import DataLoader\n",
    "from sklearn.model_selection import train_test_split\n",
    "from torchvision import transforms as tf\n",
    "from imutils import paths\n",
    "from tqdm import tqdm\n",
    "import matplotlib.pyplot as plt\n",
    "import torch\n",
    "import time\n",
    "import os\n",
    "\n",
    "%matplotlib inline"
   ]
  },
  {
   "cell_type": "code",
   "execution_count": 2,
   "metadata": {},
   "outputs": [
    {
     "name": "stdout",
     "output_type": "stream",
     "text": [
      "[INFO] saving testing image paths...\n"
     ]
    }
   ],
   "source": [
    "#make image list for directory written!\n",
    "total_imageList = sorted(list(paths.list_images(config.IMAGE_DATASET_PATH)))\n",
    "total_maskList = sorted(list(paths.list_images(config.MASK_DATASET_PATH)))\n",
    "#total_imageList is image_path_list whose element ends with .png\n",
    "\n",
    "#split train and test set!\n",
    "split = train_test_split(total_imageList, total_maskList, test_size=config.TEST_SPLIT_RATIO, random_state=42)\n",
    "\n",
    "#unpack the data split\n",
    "(trainImages, testImages) = split[:2]\n",
    "(trainMasks, testMasks) = split[2:]  #mask is the label of segmentation!\n",
    "\n",
    "# TEST_PATHS: output/test_paths.txt\n",
    "print(\"[INFO] saving testing image paths...\")\n",
    "f = open(config.TEST_PATHS, 'w')\n",
    "f.write('\\n'.join(testImages))\n",
    "f.close()\n",
    "\n",
    "# print(testImages) \n",
    "# 'dataset/train/images/25db231ea0.png', 'dataset/train/images/dfd3138198.png', 'dataset/train/images/2425501bf4.png'"
   ]
  },
  {
   "cell_type": "code",
   "execution_count": 3,
   "metadata": {},
   "outputs": [
    {
     "name": "stdout",
     "output_type": "stream",
     "text": [
      "[INFO] found 3400 examples in the training set...\n",
      "[INFO] found 600 examples in the test set...\n"
     ]
    }
   ],
   "source": [
    "#define transformation\n",
    "compose = tf.Compose([\n",
    "    tf.ToPILImage(), \n",
    "    tf.Resize((config.INPUT_IMAGE_HEIGHT, config.INPUT_IMAGE_WIDGH)), \n",
    "    tf.ToTensor()\n",
    "    ])\n",
    "\n",
    "#create the train and test datasets\n",
    "train_dataset = SegmentationDataset(imagePathList = trainImages, maskPathList = trainMasks, transforms = compose)\n",
    "test_dataset = SegmentationDataset(imagePathList = testImages, maskPathList = testMasks, transforms = compose)\n",
    "print(f\"[INFO] found {len(train_dataset) } examples in the training set...\")\n",
    "print(f\"[INFO] found {len(test_dataset)} examples in the test set...\")\n",
    "\n",
    "#create the train and test dataloaders\n",
    "train_loader = DataLoader(train_dataset, shuffle=True, batch_size=config.BATCH_SIZE,\n",
    "                         pin_memory=config.PIN_MEMORY, num_workers=(os.cpu_count()//5))\n",
    "test_loader = DataLoader(test_dataset, shuffle=False, batch_size=config.BATCH_SIZE, \n",
    "                        pin_memory=config.PIN_MEMORY, num_workers=(os.cpu_count()//5))"
   ]
  },
  {
   "cell_type": "code",
   "execution_count": 4,
   "metadata": {},
   "outputs": [
    {
     "name": "stdout",
     "output_type": "stream",
     "text": [
      "length of total dataset:  4000\n",
      "length of train_data:  3400\n",
      "length of test data:  600\n",
      "length of train data loader:  54\n",
      "length of test data loader  10\n"
     ]
    }
   ],
   "source": [
    "print('length of total dataset: ',len(total_imageList))\n",
    "print('length of train_data: ', len(trainImages))\n",
    "print('length of test data: ', len(testImages))\n",
    "print('length of train data loader: ', len(train_loader))\n",
    "print('length of test data loader ', len(test_loader))\n"
   ]
  },
  {
   "cell_type": "code",
   "execution_count": 5,
   "metadata": {},
   "outputs": [],
   "source": [
    "#initialize out UNet model\n",
    "unet = UNet().to(config.DEVICE)\n",
    "\n",
    "#initialize loss function and optimizer\n",
    "costFunc = BCEWithLogitsLoss()\n",
    "optimizer = Adam(unet.parameters(), lr = config.INIT_LR)\n",
    "\n",
    "trainSteps = len(train_dataset)/config.BATCH_SIZE\n",
    "testSteps = len(test_dataset)/config.BATCH_SIZE\n",
    "\n",
    "#initialize a dictionary to store training history\n",
    "H = {'train_loss': [], \"test_loss\": []}"
   ]
  },
  {
   "cell_type": "code",
   "execution_count": 6,
   "metadata": {},
   "outputs": [],
   "source": [
    "#get latest model number from latest_model_number.txt\n",
    "f = open('output/latest_model_number.txt', 'r')\n",
    "latest_model_number = f.read()\n",
    "f.close()\n",
    "\n",
    "#update model number at latest_model_number.txt\n",
    "f = open('output/latest_model_number.txt', 'w')\n",
    "f.write(str(int(latest_model_number) + 1))\n",
    "f.close()"
   ]
  },
  {
   "cell_type": "code",
   "execution_count": 7,
   "metadata": {},
   "outputs": [
    {
     "name": "stdout",
     "output_type": "stream",
     "text": [
      "[INFO] training the network...\n"
     ]
    },
    {
     "name": "stderr",
     "output_type": "stream",
     "text": [
      "  2%|▏         | 1/50 [00:03<03:06,  3.81s/it]"
     ]
    },
    {
     "name": "stdout",
     "output_type": "stream",
     "text": [
      "[INFO] EPOCH: 1/50 Train loss:0.5706 Test loss:0.5454\n"
     ]
    },
    {
     "name": "stderr",
     "output_type": "stream",
     "text": [
      "  4%|▍         | 2/50 [00:06<02:41,  3.36s/it]"
     ]
    },
    {
     "name": "stdout",
     "output_type": "stream",
     "text": [
      "[INFO] EPOCH: 2/50 Train loss:0.5491 Test loss:0.5317\n"
     ]
    },
    {
     "name": "stderr",
     "output_type": "stream",
     "text": [
      "  6%|▌         | 3/50 [00:09<02:32,  3.24s/it]"
     ]
    },
    {
     "name": "stdout",
     "output_type": "stream",
     "text": [
      "[INFO] EPOCH: 3/50 Train loss:0.5190 Test loss:0.5846\n"
     ]
    },
    {
     "name": "stderr",
     "output_type": "stream",
     "text": [
      "  8%|▊         | 4/50 [00:12<02:25,  3.16s/it]"
     ]
    },
    {
     "name": "stdout",
     "output_type": "stream",
     "text": [
      "[INFO] EPOCH: 4/50 Train loss:0.4709 Test loss:0.4123\n"
     ]
    },
    {
     "name": "stderr",
     "output_type": "stream",
     "text": [
      " 10%|█         | 5/50 [00:16<02:20,  3.13s/it]"
     ]
    },
    {
     "name": "stdout",
     "output_type": "stream",
     "text": [
      "[INFO] EPOCH: 5/50 Train loss:0.4269 Test loss:0.3918\n"
     ]
    },
    {
     "name": "stderr",
     "output_type": "stream",
     "text": [
      " 12%|█▏        | 6/50 [00:19<02:17,  3.13s/it]"
     ]
    },
    {
     "name": "stdout",
     "output_type": "stream",
     "text": [
      "[INFO] EPOCH: 6/50 Train loss:0.4100 Test loss:0.3800\n"
     ]
    },
    {
     "name": "stderr",
     "output_type": "stream",
     "text": [
      " 14%|█▍        | 7/50 [00:22<02:13,  3.11s/it]"
     ]
    },
    {
     "name": "stdout",
     "output_type": "stream",
     "text": [
      "[INFO] EPOCH: 7/50 Train loss:0.4141 Test loss:0.3813\n"
     ]
    },
    {
     "name": "stderr",
     "output_type": "stream",
     "text": [
      " 16%|█▌        | 8/50 [00:25<02:10,  3.10s/it]"
     ]
    },
    {
     "name": "stdout",
     "output_type": "stream",
     "text": [
      "[INFO] EPOCH: 8/50 Train loss:0.3984 Test loss:0.3950\n"
     ]
    },
    {
     "name": "stderr",
     "output_type": "stream",
     "text": [
      " 18%|█▊        | 9/50 [00:28<02:07,  3.11s/it]"
     ]
    },
    {
     "name": "stdout",
     "output_type": "stream",
     "text": [
      "[INFO] EPOCH: 9/50 Train loss:0.4018 Test loss:0.3852\n"
     ]
    },
    {
     "name": "stderr",
     "output_type": "stream",
     "text": [
      " 20%|██        | 10/50 [00:31<02:03,  3.10s/it]"
     ]
    },
    {
     "name": "stdout",
     "output_type": "stream",
     "text": [
      "[INFO] EPOCH: 10/50 Train loss:0.3888 Test loss:0.3627\n"
     ]
    },
    {
     "name": "stderr",
     "output_type": "stream",
     "text": [
      " 22%|██▏       | 11/50 [00:34<02:01,  3.11s/it]"
     ]
    },
    {
     "name": "stdout",
     "output_type": "stream",
     "text": [
      "[INFO] EPOCH: 11/50 Train loss:0.3894 Test loss:0.3641\n"
     ]
    },
    {
     "name": "stderr",
     "output_type": "stream",
     "text": [
      " 24%|██▍       | 12/50 [00:37<01:58,  3.13s/it]"
     ]
    },
    {
     "name": "stdout",
     "output_type": "stream",
     "text": [
      "[INFO] EPOCH: 12/50 Train loss:0.3880 Test loss:0.3566\n"
     ]
    },
    {
     "name": "stderr",
     "output_type": "stream",
     "text": [
      " 26%|██▌       | 13/50 [00:40<01:55,  3.13s/it]"
     ]
    },
    {
     "name": "stdout",
     "output_type": "stream",
     "text": [
      "[INFO] EPOCH: 13/50 Train loss:0.3842 Test loss:0.3779\n"
     ]
    },
    {
     "name": "stderr",
     "output_type": "stream",
     "text": [
      " 28%|██▊       | 14/50 [00:44<01:52,  3.13s/it]"
     ]
    },
    {
     "name": "stdout",
     "output_type": "stream",
     "text": [
      "[INFO] EPOCH: 14/50 Train loss:0.3806 Test loss:0.3709\n"
     ]
    },
    {
     "name": "stderr",
     "output_type": "stream",
     "text": [
      " 30%|███       | 15/50 [00:47<01:49,  3.14s/it]"
     ]
    },
    {
     "name": "stdout",
     "output_type": "stream",
     "text": [
      "[INFO] EPOCH: 15/50 Train loss:0.3800 Test loss:0.3545\n"
     ]
    },
    {
     "name": "stderr",
     "output_type": "stream",
     "text": [
      " 32%|███▏      | 16/50 [00:50<01:46,  3.13s/it]"
     ]
    },
    {
     "name": "stdout",
     "output_type": "stream",
     "text": [
      "[INFO] EPOCH: 16/50 Train loss:0.3786 Test loss:0.3542\n"
     ]
    },
    {
     "name": "stderr",
     "output_type": "stream",
     "text": [
      " 34%|███▍      | 17/50 [00:53<01:43,  3.12s/it]"
     ]
    },
    {
     "name": "stdout",
     "output_type": "stream",
     "text": [
      "[INFO] EPOCH: 17/50 Train loss:0.3773 Test loss:0.3862\n"
     ]
    },
    {
     "name": "stderr",
     "output_type": "stream",
     "text": [
      " 36%|███▌      | 18/50 [00:56<01:40,  3.14s/it]"
     ]
    },
    {
     "name": "stdout",
     "output_type": "stream",
     "text": [
      "[INFO] EPOCH: 18/50 Train loss:0.3785 Test loss:0.3577\n"
     ]
    },
    {
     "name": "stderr",
     "output_type": "stream",
     "text": [
      " 38%|███▊      | 19/50 [00:59<01:37,  3.14s/it]"
     ]
    },
    {
     "name": "stdout",
     "output_type": "stream",
     "text": [
      "[INFO] EPOCH: 19/50 Train loss:0.3622 Test loss:0.3517\n"
     ]
    },
    {
     "name": "stderr",
     "output_type": "stream",
     "text": [
      " 40%|████      | 20/50 [01:02<01:34,  3.15s/it]"
     ]
    },
    {
     "name": "stdout",
     "output_type": "stream",
     "text": [
      "[INFO] EPOCH: 20/50 Train loss:0.3616 Test loss:0.3332\n"
     ]
    },
    {
     "name": "stderr",
     "output_type": "stream",
     "text": [
      " 42%|████▏     | 21/50 [01:06<01:30,  3.13s/it]"
     ]
    },
    {
     "name": "stdout",
     "output_type": "stream",
     "text": [
      "[INFO] EPOCH: 21/50 Train loss:0.3503 Test loss:0.3254\n"
     ]
    },
    {
     "name": "stderr",
     "output_type": "stream",
     "text": [
      " 44%|████▍     | 22/50 [01:09<01:27,  3.14s/it]"
     ]
    },
    {
     "name": "stdout",
     "output_type": "stream",
     "text": [
      "[INFO] EPOCH: 22/50 Train loss:0.3530 Test loss:0.3343\n"
     ]
    },
    {
     "name": "stderr",
     "output_type": "stream",
     "text": [
      " 46%|████▌     | 23/50 [01:12<01:24,  3.13s/it]"
     ]
    },
    {
     "name": "stdout",
     "output_type": "stream",
     "text": [
      "[INFO] EPOCH: 23/50 Train loss:0.3556 Test loss:0.3897\n"
     ]
    },
    {
     "name": "stderr",
     "output_type": "stream",
     "text": [
      " 48%|████▊     | 24/50 [01:15<01:21,  3.14s/it]"
     ]
    },
    {
     "name": "stdout",
     "output_type": "stream",
     "text": [
      "[INFO] EPOCH: 24/50 Train loss:0.3584 Test loss:0.3339\n"
     ]
    },
    {
     "name": "stderr",
     "output_type": "stream",
     "text": [
      " 50%|█████     | 25/50 [01:18<01:18,  3.14s/it]"
     ]
    },
    {
     "name": "stdout",
     "output_type": "stream",
     "text": [
      "[INFO] EPOCH: 25/50 Train loss:0.3403 Test loss:0.3546\n"
     ]
    },
    {
     "name": "stderr",
     "output_type": "stream",
     "text": [
      " 52%|█████▏    | 26/50 [01:21<01:15,  3.14s/it]"
     ]
    },
    {
     "name": "stdout",
     "output_type": "stream",
     "text": [
      "[INFO] EPOCH: 26/50 Train loss:0.3360 Test loss:0.3230\n"
     ]
    },
    {
     "name": "stderr",
     "output_type": "stream",
     "text": [
      " 54%|█████▍    | 27/50 [01:24<01:11,  3.13s/it]"
     ]
    },
    {
     "name": "stdout",
     "output_type": "stream",
     "text": [
      "[INFO] EPOCH: 27/50 Train loss:0.3608 Test loss:0.3175\n"
     ]
    },
    {
     "name": "stderr",
     "output_type": "stream",
     "text": [
      " 56%|█████▌    | 28/50 [01:28<01:08,  3.13s/it]"
     ]
    },
    {
     "name": "stdout",
     "output_type": "stream",
     "text": [
      "[INFO] EPOCH: 28/50 Train loss:0.3332 Test loss:0.3378\n"
     ]
    },
    {
     "name": "stderr",
     "output_type": "stream",
     "text": [
      " 58%|█████▊    | 29/50 [01:31<01:05,  3.12s/it]"
     ]
    },
    {
     "name": "stdout",
     "output_type": "stream",
     "text": [
      "[INFO] EPOCH: 29/50 Train loss:0.3361 Test loss:0.3296\n"
     ]
    },
    {
     "name": "stderr",
     "output_type": "stream",
     "text": [
      " 60%|██████    | 30/50 [01:34<01:02,  3.13s/it]"
     ]
    },
    {
     "name": "stdout",
     "output_type": "stream",
     "text": [
      "[INFO] EPOCH: 30/50 Train loss:0.3262 Test loss:0.3057\n"
     ]
    },
    {
     "name": "stderr",
     "output_type": "stream",
     "text": [
      " 62%|██████▏   | 31/50 [01:37<00:59,  3.12s/it]"
     ]
    },
    {
     "name": "stdout",
     "output_type": "stream",
     "text": [
      "[INFO] EPOCH: 31/50 Train loss:0.3257 Test loss:0.3196\n"
     ]
    },
    {
     "name": "stderr",
     "output_type": "stream",
     "text": [
      " 64%|██████▍   | 32/50 [01:40<00:55,  3.11s/it]"
     ]
    },
    {
     "name": "stdout",
     "output_type": "stream",
     "text": [
      "[INFO] EPOCH: 32/50 Train loss:0.3091 Test loss:0.2890\n"
     ]
    },
    {
     "name": "stderr",
     "output_type": "stream",
     "text": [
      " 66%|██████▌   | 33/50 [01:43<00:53,  3.13s/it]"
     ]
    },
    {
     "name": "stdout",
     "output_type": "stream",
     "text": [
      "[INFO] EPOCH: 33/50 Train loss:0.2997 Test loss:0.3046\n"
     ]
    },
    {
     "name": "stderr",
     "output_type": "stream",
     "text": [
      " 68%|██████▊   | 34/50 [01:46<00:49,  3.12s/it]"
     ]
    },
    {
     "name": "stdout",
     "output_type": "stream",
     "text": [
      "[INFO] EPOCH: 34/50 Train loss:0.3094 Test loss:0.2857\n"
     ]
    },
    {
     "name": "stderr",
     "output_type": "stream",
     "text": [
      " 70%|███████   | 35/50 [01:49<00:46,  3.13s/it]"
     ]
    },
    {
     "name": "stdout",
     "output_type": "stream",
     "text": [
      "[INFO] EPOCH: 35/50 Train loss:0.2892 Test loss:0.2934\n"
     ]
    },
    {
     "name": "stderr",
     "output_type": "stream",
     "text": [
      " 72%|███████▏  | 36/50 [01:52<00:43,  3.13s/it]"
     ]
    },
    {
     "name": "stdout",
     "output_type": "stream",
     "text": [
      "[INFO] EPOCH: 36/50 Train loss:0.2939 Test loss:0.2810\n"
     ]
    },
    {
     "name": "stderr",
     "output_type": "stream",
     "text": [
      " 74%|███████▍  | 37/50 [01:56<00:40,  3.13s/it]"
     ]
    },
    {
     "name": "stdout",
     "output_type": "stream",
     "text": [
      "[INFO] EPOCH: 37/50 Train loss:0.2839 Test loss:0.2785\n"
     ]
    },
    {
     "name": "stderr",
     "output_type": "stream",
     "text": [
      " 76%|███████▌  | 38/50 [01:59<00:37,  3.15s/it]"
     ]
    },
    {
     "name": "stdout",
     "output_type": "stream",
     "text": [
      "[INFO] EPOCH: 38/50 Train loss:0.2837 Test loss:0.2759\n"
     ]
    },
    {
     "name": "stderr",
     "output_type": "stream",
     "text": [
      " 78%|███████▊  | 39/50 [02:02<00:34,  3.14s/it]"
     ]
    },
    {
     "name": "stdout",
     "output_type": "stream",
     "text": [
      "[INFO] EPOCH: 39/50 Train loss:0.2816 Test loss:0.2782\n"
     ]
    },
    {
     "name": "stderr",
     "output_type": "stream",
     "text": [
      " 80%|████████  | 40/50 [02:05<00:31,  3.14s/it]"
     ]
    },
    {
     "name": "stdout",
     "output_type": "stream",
     "text": [
      "[INFO] EPOCH: 40/50 Train loss:0.2833 Test loss:0.2717\n"
     ]
    },
    {
     "name": "stderr",
     "output_type": "stream",
     "text": [
      " 82%|████████▏ | 41/50 [02:08<00:28,  3.12s/it]"
     ]
    },
    {
     "name": "stdout",
     "output_type": "stream",
     "text": [
      "[INFO] EPOCH: 41/50 Train loss:0.2775 Test loss:0.2743\n"
     ]
    },
    {
     "name": "stderr",
     "output_type": "stream",
     "text": [
      " 84%|████████▍ | 42/50 [02:11<00:24,  3.12s/it]"
     ]
    },
    {
     "name": "stdout",
     "output_type": "stream",
     "text": [
      "[INFO] EPOCH: 42/50 Train loss:0.2772 Test loss:0.2823\n"
     ]
    },
    {
     "name": "stderr",
     "output_type": "stream",
     "text": [
      " 86%|████████▌ | 43/50 [02:14<00:21,  3.11s/it]"
     ]
    },
    {
     "name": "stdout",
     "output_type": "stream",
     "text": [
      "[INFO] EPOCH: 43/50 Train loss:0.2808 Test loss:0.2790\n"
     ]
    },
    {
     "name": "stderr",
     "output_type": "stream",
     "text": [
      " 88%|████████▊ | 44/50 [02:17<00:18,  3.11s/it]"
     ]
    },
    {
     "name": "stdout",
     "output_type": "stream",
     "text": [
      "[INFO] EPOCH: 44/50 Train loss:0.2746 Test loss:0.2651\n"
     ]
    },
    {
     "name": "stderr",
     "output_type": "stream",
     "text": [
      " 90%|█████████ | 45/50 [02:21<00:15,  3.12s/it]"
     ]
    },
    {
     "name": "stdout",
     "output_type": "stream",
     "text": [
      "[INFO] EPOCH: 45/50 Train loss:0.2687 Test loss:0.2675\n"
     ]
    },
    {
     "name": "stderr",
     "output_type": "stream",
     "text": [
      " 92%|█████████▏| 46/50 [02:24<00:12,  3.11s/it]"
     ]
    },
    {
     "name": "stdout",
     "output_type": "stream",
     "text": [
      "[INFO] EPOCH: 46/50 Train loss:0.2979 Test loss:0.2726\n"
     ]
    },
    {
     "name": "stderr",
     "output_type": "stream",
     "text": [
      " 94%|█████████▍| 47/50 [02:27<00:09,  3.11s/it]"
     ]
    },
    {
     "name": "stdout",
     "output_type": "stream",
     "text": [
      "[INFO] EPOCH: 47/50 Train loss:0.2835 Test loss:0.2666\n"
     ]
    },
    {
     "name": "stderr",
     "output_type": "stream",
     "text": [
      " 96%|█████████▌| 48/50 [02:30<00:06,  3.09s/it]"
     ]
    },
    {
     "name": "stdout",
     "output_type": "stream",
     "text": [
      "[INFO] EPOCH: 48/50 Train loss:0.2715 Test loss:0.2642\n"
     ]
    },
    {
     "name": "stderr",
     "output_type": "stream",
     "text": [
      " 98%|█████████▊| 49/50 [02:33<00:03,  3.10s/it]"
     ]
    },
    {
     "name": "stdout",
     "output_type": "stream",
     "text": [
      "[INFO] EPOCH: 49/50 Train loss:0.2712 Test loss:0.2888\n"
     ]
    },
    {
     "name": "stderr",
     "output_type": "stream",
     "text": [
      "100%|██████████| 50/50 [02:36<00:00,  3.13s/it]"
     ]
    },
    {
     "name": "stdout",
     "output_type": "stream",
     "text": [
      "[INFO] EPOCH: 50/50 Train loss:0.2752 Test loss:0.2682\n",
      "final train cost: 0.2752038538455963 \n",
      " final test cost: 0.2682134807109833\n",
      "[INFO] total time taken to train the model: 156.59821s\n"
     ]
    },
    {
     "name": "stderr",
     "output_type": "stream",
     "text": [
      "\n"
     ]
    }
   ],
   "source": [
    "#loop over epochs\n",
    "print('[INFO] training the network...')\n",
    "startTime = time.time()\n",
    "\n",
    "for e in tqdm(range(config.NUM_EPOCH)):\n",
    "    totalTrainLoss = 0\n",
    "    totalTestloss = 0\n",
    "\n",
    "    unet.train()\n",
    "    for (i, (x, y)) in enumerate(train_loader):\n",
    "        (x, y) = (x.to(config.DEVICE), y.to(config.DEVICE))\n",
    "\n",
    "        optimizer.zero_grad()\n",
    "        prediction = unet(x)\n",
    "        cost = costFunc(prediction, y)\n",
    "        cost.backward()\n",
    "        optimizer.step()\n",
    "        totalTrainLoss += cost\n",
    "\n",
    "    with torch.no_grad():\n",
    "        unet.eval()\n",
    "        for(x, y) in test_loader:\n",
    "            (x, y) = (x.to(config.DEVICE), y.to(config.DEVICE))\n",
    "            prediction = unet(x)\n",
    "            cost = costFunc(prediction, y)\n",
    "            totalTestloss += cost\n",
    "\n",
    "    avgTrainLoss = totalTrainLoss/len(train_loader)\n",
    "    avgTestLoss = totalTestloss/len(test_loader)\n",
    "\n",
    "    H[\"train_loss\"].append(avgTrainLoss.cpu().detach().numpy())\n",
    "    H[\"test_loss\"].append(avgTestLoss.cpu().detach().numpy())\n",
    "\n",
    "    print('[INFO] EPOCH: {}/{} Train loss:{:2.4f} Test loss:{:2.4f}'.format(e+1, config.NUM_EPOCH, avgTrainLoss, avgTestLoss))\n",
    "\n",
    "print(f\"final train cost: {H['train_loss'][-1]} \\n final test cost: {H['test_loss'][-1]}\")\n",
    "print(\"[INFO] total time taken to train the model: {:2.5f}s\".format(time.time()-startTime))\n",
    "model_path = config.BASE_OUTPUT + \"/unet#\" + str(latest_model_number) + \"_cost:{:2.4f}\".format(H['test_loss'][-1]) +'.pth'\n",
    "\n",
    "f = open(config.MODEL_PATH, 'a')\n",
    "f.write(model_path + '\\n')\n",
    "f.close()\n",
    "\n",
    "torch.save(unet, model_path)"
   ]
  },
  {
   "cell_type": "code",
   "execution_count": 8,
   "metadata": {},
   "outputs": [
    {
     "data": {
      "image/png": "[encoded data removed]",
      "text/plain": [
       "<Figure size 432x288 with 1 Axes>"
      ]
     },
     "metadata": {},
     "output_type": "display_data"
    }
   ],
   "source": [
    "plt.style.use('ggplot')\n",
    "plt.figure()\n",
    "plt.plot(H[\"train_loss\"], label='train_loss')\n",
    "plt.plot(H['test_loss'], label='test_loss')\n",
    "plt.title('Training loss in Dataset')\n",
    "plt.xlabel('Epoch #')\n",
    "plt.ylabel('Loss')\n",
    "plt.legend(loc='lower left')\n",
    "plt.savefig(config.BASE_OUTPUT + \"/loss_graph#\" + str(latest_model_number) + \"_cost:{:2.4f}\".format(H['test_loss'][-1]) +'.png')"
   ]
  }
 ],
 "metadata": {
  "interpreter": {
   "hash": "786e123dffc6b9b8f5916ee223f3eb962a68f56142e4f7d158e135efe5cb6aab"
  },
  "kernelspec": {
   "display_name": "Python 3.9.7 ('base': conda)",
   "language": "python",
   "name": "python3"
  },
  "language_info": {
   "codemirror_mode": {
    "name": "ipython",
    "version": 3
   },
   "file_extension": ".py",
   "mimetype": "text/x-python",
   "name": "python",
   "nbconvert_exporter": "python",
   "pygments_lexer": "ipython3",
   "version": "3.9.12"
  },
  "orig_nbformat": 4
 },
 "nbformat": 4,
 "nbformat_minor": 2
}
